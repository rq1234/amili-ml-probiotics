{
 "cells": [
  {
   "cell_type": "markdown",
   "id": "0b708d34-1566-4b8b-9d9b-3a79861b992b",
   "metadata": {},
   "source": [
    "# Gut Microbiome - Infer Autism Spectrum Disorders from 16S Abundance\n",
    "\n",
    "**Data and Paper Credits:**\n",
    "\n",
    "Zhou Dan et al. published on April 21st of 2020 - [Altered gut microbial profile is associated with abnormal metabolism activity of Autism Spectrum Disorder](https://www.tandfonline.com/doi/full/10.1080/19490976.2020.1747329)"
   ]
  },
  {
   "cell_type": "code",
   "execution_count": null,
   "id": "4ef9d91d-2d17-4265-b924-aeb0c0dcf91f",
   "metadata": {},
   "outputs": [],
   "source": [
    "import os\n",
    "import numpy as np\n",
    "import pandas as pd\n",
    "from sklearn.model_selection import StratifiedKFold\n",
    "from sklearn.ensemble import RandomForestClassifier\n",
    "from sklearn.model_selection import train_test_split\n",
    "import sklearn\n",
    "from sklearn.metrics import (f1_score, roc_auc_score, accuracy_score,\n",
    "                            confusion_matrix, precision_recall_curve, \n",
    "                            auc, roc_curve, recall_score, precision_score)\n",
    "from xgboost import XGBClassifier\n",
    "import xgboost as xgb\n",
    "import shap\n",
    "from google import genai\n",
    "import matplotlib.pyplot as plt\n",
    "\n",
    "from glob import glob\n",
    "\n",
    "from dotenv import load_dotenv\n",
    "load_dotenv()\n",
    "\n",
    "shap.plots.initjs()"
   ]
  },
  {
   "cell_type": "markdown",
   "id": "e6f5f531-88b7-446a-924d-1c13405a36c6",
   "metadata": {},
   "source": [
    "## Hyperparams / Constants"
   ]
  },
  {
   "cell_type": "code",
   "execution_count": null,
   "id": "60cc4799-6260-4773-8446-a229e08c12c2",
   "metadata": {},
   "outputs": [],
   "source": [
    "# some hyper parameters\n",
    "SEED = 1970\n",
    "test_train_split_SEED = 1970\n",
    "# FOLDS = 10\n",
    "show_fold_stats = True\n",
    "PREDICT_THRESHOLD = 0.6\n",
    "\n",
    "DATA_DIR = os.path.join(os.environ[\"HOME\"], \"OtonoCo\",\n",
    "               \"Datasets\",\"AMILI\",\"ASD_Gut_Microbiome\")"
   ]
  },
  {
   "cell_type": "markdown",
   "id": "15609a90-3619-49f5-a7e9-061efe818893",
   "metadata": {},
   "source": [
    "# Gemini Functions"
   ]
  },
  {
   "cell_type": "code",
   "execution_count": null,
   "id": "e9f8f4ba-8f00-4b0d-84a1-cfb5f255d242",
   "metadata": {},
   "outputs": [],
   "source": [
    "gemini_client = genai.Client( api_key=os.environ[\"GOOGLE_API_KEY\"])\n",
    "GEMINI_MODEL = \"gemini-2.0-flash-exp\"\n",
    "\n",
    "def get_llm_response_gemini(system_msg, user_msg):\n",
    "    gemini_content = system_msg + \"\\n\" + user_msg\n",
    "    \n",
    "    response = gemini_client.models.generate_content(\n",
    "        model=GEMINI_MODEL, \n",
    "        contents=gemini_content\n",
    "    )\n",
    "    total_tokens = response.usage_metadata.total_token_count\n",
    "    return response.text, total_tokens"
   ]
  },
  {
   "cell_type": "code",
   "execution_count": null,
   "id": "62a9b7c9-ed7a-4281-9dc5-d619df09cc02",
   "metadata": {},
   "outputs": [],
   "source": [
    "def prompt_extract_bact_strain(input_taxo):\n",
    "    system_msg = f\"\"\"\n",
    "    You are an expert in identifying biological entities from text.\n",
    "    You have been given the following text:\n",
    "    {input_taxo}\n",
    "    \"\"\"\n",
    "    user_msg = f\"\"\"\n",
    "    Extract biological entities from the given text and give you answer in the following format:\n",
    "    entity 1, entity 2, ...\n",
    "    \n",
    "    Output only the biological entities without anything else.\n",
    "    \"\"\"\n",
    "    return system_msg, user_msg\n",
    "\n",
    "def prompt_bio_entity_role(input_text, context):\n",
    "    system_msg = f\"\"\"\n",
    "    You are an expert in the field of Human Gut Microbiome.\n",
    "    You have been given the following text containing biological entities:\n",
    "    {input_text}\n",
    "    \"\"\"\n",
    "    user_msg = f\"\"\"\n",
    "    Describe the roles of the given entities in Human Gut Microbiome with regards to {context}.\n",
    "    \"\"\"\n",
    "    return system_msg, user_msg\n",
    "\n",
    "def extract_bact_strains(input_taxo):\n",
    "    import time\n",
    "    time.sleep(5)\n",
    "    system_msg, user_msg = prompt_extract_bact_strain(input_taxo)\n",
    "    results, tokens = get_llm_response_gemini(system_msg, user_msg)\n",
    "    return results.replace(\"_\",\" \"), tokens\n",
    "\n",
    "def find_bio_entity_role(input_taxo, context = \"diseases\"):\n",
    "    import time\n",
    "    time.sleep(5)\n",
    "    system_msg, user_msg = prompt_bio_entity_role(input_taxo, context)\n",
    "    results, tokens = get_llm_response_gemini(system_msg, user_msg)\n",
    "    return results.replace(\"_\",\" \"), tokens\n",
    "    \n",
    "def single_otu_entity(in_otu):\n",
    "    otu_entity = otu_taxo_dict.get(in_otu)\n",
    "    print(in_otu + \" - \" + extract_bact_strains(otu_entity)[0])"
   ]
  },
  {
   "cell_type": "markdown",
   "id": "d35804b0-e75a-43f7-9dcd-a7035b618656",
   "metadata": {},
   "source": [
    "## Data"
   ]
  },
  {
   "cell_type": "code",
   "execution_count": null,
   "id": "cc949dc7-c32e-4bb0-8472-184b0ebb8218",
   "metadata": {},
   "outputs": [],
   "source": [
    "csv_list = sorted(glob(os.path.join(DATA_DIR, \"*.csv\")))\n",
    "csv_list"
   ]
  },
  {
   "cell_type": "code",
   "execution_count": null,
   "id": "16028d8d-126e-44f2-8230-b1691240829a",
   "metadata": {},
   "outputs": [],
   "source": [
    "pd_meta_abundance = pd.read_csv(csv_list[0])\n",
    "pd_16s = pd.read_csv(csv_list[1])\n",
    "\n",
    "display(pd_meta_abundance.head())\n",
    "display(pd_16s.head())\n",
    "display(pd_16s.shape)"
   ]
  },
  {
   "cell_type": "markdown",
   "id": "a344e82e-27a2-4b49-b6f7-c8cfb8ef32ca",
   "metadata": {},
   "source": [
    "## OTU-TAXONOMY MAPPING\n",
    "\n",
    "Keep track of `OTU-Taxonomy` pair for later use in using OTU to get TAXONOMY"
   ]
  },
  {
   "cell_type": "code",
   "execution_count": null,
   "id": "b59850da-cfaf-48cc-9e0f-3a23b4c211f6",
   "metadata": {},
   "outputs": [],
   "source": [
    "otu_list_16s = pd_16s[\"OTU\"]\n",
    "taxo_list_16s = pd_16s[\"taxonomy\"]\n",
    "\n",
    "otu_taxo_dict = dict(zip(otu_list_16s, taxo_list_16s))\n"
   ]
  },
  {
   "cell_type": "markdown",
   "id": "c6587909-f683-40a2-9259-40c6fe60437b",
   "metadata": {},
   "source": [
    "## Tranpose Dataset"
   ]
  },
  {
   "cell_type": "code",
   "execution_count": null,
   "id": "65729a24-5ef8-4870-967b-e4c95aefa2d1",
   "metadata": {},
   "outputs": [],
   "source": [
    "taxa = pd_16s[['OTU', 'taxonomy']].set_index('OTU')\n",
    "pd_16s_T = pd_16s.drop('taxonomy', axis=1).set_index('OTU').transpose()\n",
    "\n",
    "display(pd_16s_T.head())"
   ]
  },
  {
   "cell_type": "code",
   "execution_count": null,
   "id": "46ffbf5b-eac9-4f58-add4-15af941543a1",
   "metadata": {},
   "outputs": [],
   "source": [
    "def define_target(input_otu):\n",
    "    if (input_otu.startswith(\"A\")):\n",
    "        return 1\n",
    "    else:\n",
    "        return 0"
   ]
  },
  {
   "cell_type": "markdown",
   "id": "7103676e-e2d0-4775-a343-8635f5804cb2",
   "metadata": {},
   "source": [
    "## Restore `OTU` from `index`"
   ]
  },
  {
   "cell_type": "code",
   "execution_count": null,
   "id": "5432d11d-b4ea-4448-9287-2dfd4292c47d",
   "metadata": {},
   "outputs": [],
   "source": [
    "pd_16s_df = pd_16s_T.copy()\n",
    "pd_16s_df[\"OTU\"] = pd_16s_df.index\n",
    "display(pd_16s_df.head())\n",
    "\n",
    "pd_16s_df.insert(loc = 0, column = \"AUTISM\", \n",
    "                 value = pd_16s_df[\"OTU\"].apply(define_target))\n",
    "\n",
    "display(pd_16s_df.head())"
   ]
  },
  {
   "cell_type": "markdown",
   "id": "a9465601-dcef-4dd1-a44d-5ad8929e0dda",
   "metadata": {},
   "source": [
    "**Target Analysis**"
   ]
  },
  {
   "cell_type": "code",
   "execution_count": null,
   "id": "32146f8c-7e95-4322-9771-b1ca41410fd0",
   "metadata": {},
   "outputs": [],
   "source": [
    "pd_16s_df[\"AUTISM\"].value_counts()"
   ]
  },
  {
   "cell_type": "code",
   "execution_count": null,
   "id": "1591d3af-d500-4753-8cab-4c15c3e876ec",
   "metadata": {},
   "outputs": [],
   "source": [
    "143/(143+111)"
   ]
  },
  {
   "cell_type": "markdown",
   "id": "1f8a13d3-dc06-456f-8c00-46c702a84a79",
   "metadata": {},
   "source": [
    "## Determine Total Species & Relative Abundance"
   ]
  },
  {
   "cell_type": "code",
   "execution_count": null,
   "id": "6c554c0d-2aac-4c35-bb93-0f1f0a706e93",
   "metadata": {},
   "outputs": [],
   "source": [
    "rel_abund_df = pd_16s_df.iloc[:, 1:].set_index('OTU')\n",
    "rel_abund_df.head()"
   ]
  },
  {
   "cell_type": "code",
   "execution_count": null,
   "id": "387de183-ada1-49db-b3f7-d5816fb58811",
   "metadata": {},
   "outputs": [],
   "source": [
    "abs_abundance = int(rel_abund_df.sum(axis = 1).mean())\n",
    "abs_abundance"
   ]
  },
  {
   "cell_type": "code",
   "execution_count": null,
   "id": "85692e86-1554-49a5-a634-a6a62ba8bba8",
   "metadata": {},
   "outputs": [],
   "source": [
    "rel_abundance_df = (rel_abund_df / abs_abundance) * 100\n",
    "\n",
    "display(rel_abundance_df.head())"
   ]
  },
  {
   "cell_type": "markdown",
   "id": "9a6c15c1-5959-4f32-805e-17614356f51a",
   "metadata": {},
   "source": [
    "## Restore Target and OTU"
   ]
  },
  {
   "cell_type": "code",
   "execution_count": null,
   "id": "e7b4b239-3b3e-4af8-8b3b-570ee1bb0b52",
   "metadata": {},
   "outputs": [],
   "source": [
    "rel_abundance_df2 = rel_abundance_df.copy() #.reset_index()\n",
    "\n",
    "target_list = pd_16s_df[\"AUTISM\"].to_list()\n",
    "\n",
    "rel_abundance_df2.insert(loc = 1, column = \"AUTISM\", value = target_list)\n",
    "\n",
    "display(rel_abundance_df2.head())\n",
    "display(rel_abundance_df2[\"AUTISM\"].value_counts())"
   ]
  },
  {
   "cell_type": "markdown",
   "id": "756b9d85-5b0a-4383-8ac5-5d1f50a0087c",
   "metadata": {},
   "source": [
    "## Split Data\n",
    "### Create `X` and `y`"
   ]
  },
  {
   "cell_type": "code",
   "execution_count": null,
   "id": "43b551b9-9ea6-41f7-98bd-dd739b93b501",
   "metadata": {},
   "outputs": [],
   "source": [
    "X_df =  rel_abundance_df2.copy()\n",
    "X = X_df[[x for x in list(rel_abundance_df2.columns) if x != \"AUTISM\"]]\n",
    "X = X[[x for x in list(X.columns) if x != \"OTU\"]]\n",
    "y = rel_abundance_df2[[\"AUTISM\"]]\n",
    "\n",
    "display(X.head())\n",
    "display(y.head())"
   ]
  },
  {
   "cell_type": "code",
   "execution_count": null,
   "id": "23e37fd8-9a6f-4f59-ab91-0390ffbe4440",
   "metadata": {},
   "outputs": [],
   "source": [
    "X_train, X_test, y_train, y_test = train_test_split(X, y, test_size=0.2, random_state=SEED)\n",
    "\n",
    "np.shape(X_train)"
   ]
  },
  {
   "cell_type": "markdown",
   "id": "009b26eb-1009-4324-a5a7-63314ebe73e6",
   "metadata": {},
   "source": [
    "## Run XGBoost Training on 16S Data"
   ]
  },
  {
   "cell_type": "code",
   "execution_count": null,
   "id": "87daf0d7-aeac-46e6-a7d9-b05990198c44",
   "metadata": {},
   "outputs": [],
   "source": [
    "Xy = xgb.DMatrix(X, y, enable_categorical=True)\n",
    "booster = xgb.train({\"tree_method\": \"hist\", \"max_cat_to_onehot\": 5}, Xy)\n",
    "# Must use JSON for serialization, otherwise the information is lost\n",
    "booster.save_model(\"abund-16S-model.json\")"
   ]
  },
  {
   "cell_type": "markdown",
   "id": "da417992-33f3-4c58-b2a9-3404af9edf87",
   "metadata": {},
   "source": [
    "**https://xgboost.readthedocs.io/en/stable/parameter.html**"
   ]
  },
  {
   "cell_type": "code",
   "execution_count": null,
   "id": "a507f552-e6a4-4e60-812e-11cf636327a6",
   "metadata": {},
   "outputs": [],
   "source": [
    "model = xgb.XGBClassifier(objective=\"binary:logistic\") \n",
    "model.fit(X_train, y_train)"
   ]
  },
  {
   "cell_type": "markdown",
   "id": "061de242-c502-4cfa-b093-138bcd2a7afc",
   "metadata": {},
   "source": [
    "## Load Model"
   ]
  },
  {
   "cell_type": "code",
   "execution_count": null,
   "id": "1aad78ac-4067-4584-a352-4fa71fe7a297",
   "metadata": {},
   "outputs": [],
   "source": [
    "model = xgb.Booster()\n",
    "model.load_model(\"abund-16S-model.json\") "
   ]
  },
  {
   "cell_type": "markdown",
   "id": "62c2f2ff-eb19-402c-bb47-01a500910ec6",
   "metadata": {},
   "source": [
    "# SHAP Explainer\n",
    "## Explain `X`"
   ]
  },
  {
   "cell_type": "code",
   "execution_count": null,
   "id": "90e60424-5d60-46b7-8aed-0019164ee748",
   "metadata": {},
   "outputs": [],
   "source": [
    "explainer = shap.Explainer(model)\n",
    "shap_value_X = explainer(X)"
   ]
  },
  {
   "cell_type": "markdown",
   "id": "a2915bf6-4aba-4cf9-bae1-b4d8ae6ee5cf",
   "metadata": {},
   "source": [
    "## Explain `X_test`"
   ]
  },
  {
   "cell_type": "code",
   "execution_count": null,
   "id": "51844a77-73e2-44cd-a1bc-360c8910be6c",
   "metadata": {},
   "outputs": [],
   "source": [
    "explainer = shap.Explainer(model)\n",
    "shap_value_X_test = explainer(X_test)"
   ]
  },
  {
   "cell_type": "markdown",
   "id": "c7cf3560-fd9e-402a-abc4-6f31fa769c71",
   "metadata": {},
   "source": [
    "## Waterfall Plot for `X`"
   ]
  },
  {
   "cell_type": "code",
   "execution_count": null,
   "id": "0a9e702b-7ae2-4da6-8fe8-1e7b33ed04d4",
   "metadata": {},
   "outputs": [],
   "source": [
    "shap.plots.waterfall(shap_value_X[0])"
   ]
  },
  {
   "cell_type": "code",
   "execution_count": null,
   "id": "e846370a-f873-46e8-a709-39c26771e750",
   "metadata": {},
   "outputs": [],
   "source": [
    "otu_taxo_dict.get(\"OTU625\")"
   ]
  },
  {
   "cell_type": "markdown",
   "id": "dffd7a22-fa96-46c6-9f65-de50dc43a88f",
   "metadata": {},
   "source": [
    "### Waterfall Plot for `X_test`"
   ]
  },
  {
   "cell_type": "code",
   "execution_count": null,
   "id": "67d96262-6273-4369-bdbf-bf8a6e72df38",
   "metadata": {},
   "outputs": [],
   "source": [
    "shap.plots.waterfall(shap_value_X_test[0])"
   ]
  },
  {
   "cell_type": "code",
   "execution_count": null,
   "id": "c4dd4f72-752b-4644-8249-b4b2f1057aec",
   "metadata": {},
   "outputs": [],
   "source": [
    "single_otu_entity(\"OTU1301\")\n",
    "\n",
    "single_otu_entity(\"OTU390\")\n",
    "\n",
    "single_otu_entity(\"OTU1278\")\n",
    "\n",
    "single_otu_entity(\"OTU976\")\n",
    "\n",
    "single_otu_entity(\"OTU910\")"
   ]
  },
  {
   "cell_type": "markdown",
   "id": "40a2007f-89ac-4cf5-be6b-e95ffb4f5800",
   "metadata": {},
   "source": [
    "### Force Plot for `X`"
   ]
  },
  {
   "cell_type": "code",
   "execution_count": null,
   "id": "14c057dd-cfd6-4367-b06e-f4a0ffddd102",
   "metadata": {},
   "outputs": [],
   "source": [
    "shap.plots.force(shap_value_X[0])"
   ]
  },
  {
   "cell_type": "markdown",
   "id": "f7222226-71dc-45c8-a5f1-5cfcc8a303c3",
   "metadata": {},
   "source": [
    "### Force Plot for `X_test`"
   ]
  },
  {
   "cell_type": "code",
   "execution_count": null,
   "id": "f250da5a-58d0-4e89-85d5-3b085914e947",
   "metadata": {},
   "outputs": [],
   "source": [
    "shap.plots.force(shap_value_X_test[0])"
   ]
  },
  {
   "cell_type": "markdown",
   "id": "71e2c316-b4ff-4503-a87e-a11a199c42c3",
   "metadata": {},
   "source": [
    "### Beeswarm for `X`"
   ]
  },
  {
   "cell_type": "code",
   "execution_count": null,
   "id": "54da0c4b-b1bd-4314-80b3-b20ac118a0f4",
   "metadata": {},
   "outputs": [],
   "source": [
    "shap.plots.beeswarm(shap_value_X)"
   ]
  },
  {
   "cell_type": "markdown",
   "id": "8f74a7b0-8602-4f6f-869e-e30376b69b01",
   "metadata": {},
   "source": [
    "### OTU Entity Abundance Analysis"
   ]
  },
  {
   "cell_type": "code",
   "execution_count": null,
   "id": "3fa3e7db-05b4-4de7-8859-8d121b62cb7d",
   "metadata": {},
   "outputs": [],
   "source": [
    "single_otu_entity(\"OTU625\")\n",
    "\n",
    "single_otu_entity(\"OTU976\")\n",
    "\n",
    "single_otu_entity(\"OTU1301\")\n",
    "\n",
    "single_otu_entity(\"OTU390\")\n",
    "\n",
    "single_otu_entity(\"OTU813\")"
   ]
  },
  {
   "cell_type": "markdown",
   "id": "dbecd69e-b840-4ff9-b721-5f0a1d1c2ada",
   "metadata": {},
   "source": [
    "### Beeswarm for `X_test`"
   ]
  },
  {
   "cell_type": "code",
   "execution_count": null,
   "id": "25f39a8a-59ca-4fc0-8136-c580f8c82f72",
   "metadata": {},
   "outputs": [],
   "source": [
    "shap.plots.beeswarm(shap_value_X_test)"
   ]
  },
  {
   "cell_type": "markdown",
   "id": "63606a6c-d6a7-467e-b400-7fc6044101c8",
   "metadata": {},
   "source": [
    "# Overall Shapley Importance"
   ]
  },
  {
   "cell_type": "code",
   "execution_count": null,
   "id": "b5fd20a7-949d-4675-95f9-885dcc183fc3",
   "metadata": {},
   "outputs": [],
   "source": [
    "SHAP = booster.predict(Xy, pred_interactions=True)\n",
    "\n",
    "# categorical features are listed as \"c\"\n",
    "# print(booster.feature_types)"
   ]
  },
  {
   "cell_type": "code",
   "execution_count": null,
   "id": "eea4f242-53f5-4ff8-b4f7-1778bf61fc7c",
   "metadata": {},
   "outputs": [],
   "source": [
    "score_dict = booster.get_score()\n",
    "score_table = pd.DataFrame({\"column\": score_dict.keys(),\n",
    "              \"shap_score\": sorted([score_dict[x] for x in score_dict.keys()], reverse=True)})\n",
    "display(score_table.head(10))"
   ]
  },
  {
   "cell_type": "code",
   "execution_count": null,
   "id": "1617d1fa-8280-40e6-8a30-bf91b749066f",
   "metadata": {},
   "outputs": [],
   "source": [
    "EVAL = booster.predict(Xy, pred_interactions=False)\n",
    "predict_df = pd.DataFrame(EVAL)\n",
    "predict_df.columns = [\"PREDICT_AUTISM\"]\n",
    "predict_df.head(10)"
   ]
  },
  {
   "cell_type": "markdown",
   "id": "787134c5-8398-4758-9f15-22557dcdd5c9",
   "metadata": {},
   "source": [
    "## Make Prediction on `X_test`"
   ]
  },
  {
   "cell_type": "code",
   "execution_count": null,
   "id": "325a64fe-ee62-4a4c-95dc-b4419b009010",
   "metadata": {},
   "outputs": [],
   "source": [
    "predicted_test = model.predict(X_test)\n",
    "\n",
    "print(predicted_test)"
   ]
  },
  {
   "cell_type": "code",
   "execution_count": null,
   "id": "237d313a-e8a0-40d8-a215-e9c939d69148",
   "metadata": {},
   "outputs": [],
   "source": [
    "Xy_test = xgb.DMatrix(X_test, y_test, enable_categorical=True)\n",
    "EVAL_test = booster.predict(Xy_test, pred_interactions=False)"
   ]
  },
  {
   "cell_type": "markdown",
   "id": "a69fc90b-9e97-4b2a-b4a6-0960399f36b3",
   "metadata": {},
   "source": [
    "## Create Data Frame for the Predicted Probability"
   ]
  },
  {
   "cell_type": "code",
   "execution_count": null,
   "id": "0c1ad0ee-2a5c-45cc-bdb2-49d51fc7a96c",
   "metadata": {},
   "outputs": [],
   "source": [
    "predict_df = pd.DataFrame(EVAL_test)\n",
    "predict_df.columns = [\"PREDICTED_PROB_AUTISM\"]\n",
    "predict_df[\"PREDICTED_AUTISM\"] = predicted_test\n",
    "predict_df[\"ACTUAL_AUTISM\"] = y_test[\"AUTISM\"].to_list()\n",
    "predict_df[\"SUBJECT\"] = X_test.index\n",
    "predict_df.head(10)"
   ]
  },
  {
   "cell_type": "markdown",
   "id": "fac392a5-c3aa-4eda-88b0-98af2787508c",
   "metadata": {},
   "source": [
    "## Confusion Matrix"
   ]
  },
  {
   "cell_type": "code",
   "execution_count": null,
   "id": "125dc065-1dcb-42c8-bd07-a7bbcaf467f2",
   "metadata": {},
   "outputs": [],
   "source": [
    "sklearn.metrics.confusion_matrix(predict_df[\"ACTUAL_AUTISM\"], predict_df[\"PREDICTED_AUTISM\"])"
   ]
  },
  {
   "cell_type": "markdown",
   "id": "0f0908b7-be58-4b53-ad52-6e59823afaa3",
   "metadata": {},
   "source": [
    "## Evaluate Model Performance"
   ]
  },
  {
   "cell_type": "code",
   "execution_count": null,
   "id": "2409f3ef-fa4f-4929-8463-ec7ed4740de0",
   "metadata": {},
   "outputs": [],
   "source": [
    "ACTUAL = predict_df[\"ACTUAL_AUTISM\"].to_list()\n",
    "PREDICTED = predict_df[\"PREDICTED_AUTISM\"].to_list()\n",
    "\n",
    "\n",
    "pred_acc = accuracy_score(ACTUAL, PREDICTED)\n",
    "pred_f1 = f1_score(ACTUAL, PREDICTED)\n",
    "pred_roc = roc_auc_score(ACTUAL, PREDICTED)\n",
    "pred_recall = recall_score(ACTUAL, PREDICTED)\n",
    "pred_precision = precision_score(ACTUAL, PREDICTED)\n",
    "\n",
    "print(f\"Accuracy Score: {round(pred_acc, 3)}\")\n",
    "print(f\"F1 Score: {round(pred_f1, 3)}\")\n",
    "print(f\"ROC Score: {round(pred_f1, 3)}\")\n",
    "print(f\"RECALL Score: {round(pred_recall, 3)}\")\n",
    "print(f\"PRECISION Score: {round(pred_precision, 3)}\")"
   ]
  },
  {
   "cell_type": "markdown",
   "id": "dec0ab3e-9027-4435-b2fc-f77889ca3913",
   "metadata": {},
   "source": [
    "## Confusion Matrix"
   ]
  },
  {
   "cell_type": "code",
   "execution_count": null,
   "id": "921fbf7a-a3c8-4068-84e2-da3967ee4829",
   "metadata": {},
   "outputs": [],
   "source": [
    "confusion_matrix(ACTUAL, PREDICTED)"
   ]
  },
  {
   "cell_type": "markdown",
   "id": "25fb9b14-be82-479b-a9c3-1af1ef8fc2a5",
   "metadata": {},
   "source": [
    "## Variable Importance"
   ]
  },
  {
   "cell_type": "code",
   "execution_count": null,
   "id": "a1c31372-94d9-4a7e-9c06-cb95f118396e",
   "metadata": {},
   "outputs": [],
   "source": [
    "var_imp_df = pd.DataFrame(sorted([(v,k) for k,v in score_dict.items()], reverse=True))\n",
    "var_imp_df.columns = [\"SCORE\",\"OTU\"]\n",
    "var_imp_df[\"taxonomy\"] = var_imp_df[\"OTU\"].apply(lambda x : otu_taxo_dict.get(x))\n",
    "var_imp_df.head(10)"
   ]
  },
  {
   "cell_type": "markdown",
   "id": "1dbc788e-4f17-4921-9daf-f4ed1361b045",
   "metadata": {},
   "source": [
    "## Build Table with Bacteria Strains"
   ]
  },
  {
   "cell_type": "code",
   "execution_count": null,
   "id": "a136acaf-a02d-42ef-a169-dfe6d8ee3be6",
   "metadata": {},
   "outputs": [],
   "source": [
    "var_imp_df2 = var_imp_df.copy().head(20)\n",
    "var_imp_df2[\"BIOLOGICAL\"] = var_imp_df2[\"taxonomy\"].apply(lambda x: extract_bact_strains(x)[0])\n",
    "var_imp_df2"
   ]
  },
  {
   "cell_type": "code",
   "execution_count": null,
   "id": "5da9af2a-953c-430a-a3b6-f06dbeb3e1ed",
   "metadata": {},
   "outputs": [],
   "source": [
    "var_imp_df2.to_csv(\"output/biologicals.csv\", index = False)"
   ]
  },
  {
   "cell_type": "markdown",
   "id": "a04830a0-7cac-4af2-9cc9-f15133106f74",
   "metadata": {},
   "source": [
    "## Retrieve Relevant Contents"
   ]
  },
  {
   "cell_type": "code",
   "execution_count": null,
   "id": "b417d1f8-50d7-452a-bb1c-d8c62e98a664",
   "metadata": {},
   "outputs": [],
   "source": [
    "otu_biological = dict(zip(var_imp_df2[\"OTU\"].to_list(), var_imp_df2[\"BIOLOGICAL\"].to_list()))\n",
    "otu_biological"
   ]
  },
  {
   "cell_type": "code",
   "execution_count": null,
   "id": "06028e4c-fa0d-4da3-b922-40e4321b5172",
   "metadata": {},
   "outputs": [],
   "source": [
    "import time\n",
    "for k in otu_biological.keys():\n",
    "    output_file = open(f\"output/bact_role/{k}.md\", \"w\")\n",
    "    biologicals = otu_biological.get(k)\n",
    "    results, tokens = find_bio_entity_role(biologicals, \"diseases\")\n",
    "    output_file.write(results)\n",
    "    output_file.close()\n",
    "    time.sleep(3)"
   ]
  },
  {
   "cell_type": "code",
   "execution_count": null,
   "id": "ee1a86f9-ab09-4b76-a290-778cb3644c09",
   "metadata": {},
   "outputs": [],
   "source": [
    "import time\n",
    "for k in otu_biological.keys():\n",
    "    output_file = open(f\"output/probiotic_formulation/{k}.md\", \"w\")\n",
    "    biologicals = otu_biological.get(k)\n",
    "    results, tokens = find_bio_entity_role(biologicals, \"probiotic formulation\")\n",
    "    output_file.write(results)\n",
    "    output_file.close()\n",
    "    time.sleep(3)"
   ]
  },
  {
   "cell_type": "markdown",
   "id": "e77bda66-787c-4cc2-b35b-c0e43827381f",
   "metadata": {},
   "source": [
    "## ROC Curve"
   ]
  },
  {
   "cell_type": "code",
   "execution_count": null,
   "id": "8cc9735f-a282-4330-b726-3e7996a08701",
   "metadata": {},
   "outputs": [],
   "source": [
    "def plot_roc(input_y_test, input_predicted_prob):\n",
    "    # Calculate the false positive rate, true positive rate, and thresholds\n",
    "    fpr, tpr, thresholds = roc_curve(input_y_test, input_predicted_prob)\n",
    "    \n",
    "    # Calculate the area under the ROC curve (AUC)\n",
    "    roc_auc = auc(fpr, tpr)\n",
    "    \n",
    "    # Plot the ROC curve\n",
    "    plt.figure(figsize=(8, 6))\n",
    "    plt.plot(fpr, tpr, color='blue', label=f'ROC curve (AUC = {roc_auc:.2f})')\n",
    "    plt.plot([0, 1], [0, 1], color='maroon', linestyle='--', label='Random guess')\n",
    "    plt.xlim([0.0, 1.0])\n",
    "    plt.ylim([0.0, 1.05])\n",
    "    plt.xlabel('False Positive Rate')\n",
    "    plt.ylabel('True Positive Rate')\n",
    "    plt.title('Receiver Operating Characteristic (ROC) Curve')\n",
    "    plt.legend(loc=\"lower right\")\n",
    "    plt.grid()\n",
    "    plt.show()"
   ]
  },
  {
   "cell_type": "code",
   "execution_count": null,
   "id": "accce17c-987a-4a23-ac09-1c6cbc8a5dc7",
   "metadata": {},
   "outputs": [],
   "source": [
    "plot_roc(y_test, predict_df[\"PREDICTED_PROB_AUTISM\"].to_list())"
   ]
  },
  {
   "cell_type": "markdown",
   "id": "28c7d484-da4e-4fee-beaa-6d51ea509af8",
   "metadata": {},
   "source": [
    "## OTU QUERY"
   ]
  },
  {
   "cell_type": "code",
   "execution_count": null,
   "id": "578177f7-3552-492d-9b0e-e53013f87cac",
   "metadata": {},
   "outputs": [],
   "source": [
    "single_otu_entity(\"OTU115\")"
   ]
  },
  {
   "cell_type": "code",
   "execution_count": null,
   "id": "66a19031-e903-4233-a95d-9cfd088ac95d",
   "metadata": {},
   "outputs": [],
   "source": []
  }
 ],
 "metadata": {
  "kernelspec": {
   "display_name": "Python 3 (ipykernel)",
   "language": "python",
   "name": "python3"
  },
  "language_info": {
   "codemirror_mode": {
    "name": "ipython",
    "version": 3
   },
   "file_extension": ".py",
   "mimetype": "text/x-python",
   "name": "python",
   "nbconvert_exporter": "python",
   "pygments_lexer": "ipython3",
   "version": "3.12.10"
  }
 },
 "nbformat": 4,
 "nbformat_minor": 5
}
